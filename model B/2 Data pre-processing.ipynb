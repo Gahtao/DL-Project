{
 "cells": [
  {
   "cell_type": "markdown",
   "id": "c67c0ca6",
   "metadata": {},
   "source": [
    "## Load train data"
   ]
  },
  {
   "cell_type": "code",
   "execution_count": null,
   "id": "3512c7fd",
   "metadata": {},
   "source": [
    "import convenience\n",
    "df_train_val, sample_rates = convenience.load_train()\n",
    "df_train_val.head()"
   ],
   "outputs": []
  },
  {
   "cell_type": "markdown",
   "id": "c2adaf40",
   "metadata": {},
   "source": [
    "## Loop data"
   ]
  },
  {
   "cell_type": "code",
   "execution_count": null,
   "id": "2106983e",
   "metadata": {},
   "source": [
    "import math\n",
    "\n",
    "target_duration = math.ceil(df_train_val.length.max())\n",
    "sr = list(sample_rates)[0]\n",
    "\n",
    "df_train_val, _ = convenience.loop_audio_df(df_train_val, target_duration, sr)\n",
    "df_train_val.head()"
   ],
   "outputs": []
  },
  {
   "cell_type": "markdown",
   "id": "9a9beda8",
   "metadata": {},
   "source": [
    "## Normalize data"
   ]
  },
  {
   "cell_type": "code",
   "execution_count": null,
   "id": "61c703d1",
   "metadata": {},
   "source": [
    "import torch\n",
    "df_train_val['audio_norm'] = df_train_val.looped_audio/[torch.max(torch.abs(df_train_val.looped_audio[i])) for i in range(len(df_train_val.looped_audio))]\n",
    "df_train_val.head()"
   ],
   "outputs": []
  },
  {
   "cell_type": "code",
   "execution_count": null,
   "id": "a30cf969",
   "metadata": {},
   "source": [
    "maxs = [torch.max(torch.abs(df_train_val.audio_norm[i])) for i in range(len(df_train_val.audio_norm))]\n",
    "mins = [torch.min(torch.abs(df_train_val.audio_norm[i])) for i in range(len(df_train_val.audio_norm))]\n",
    "means = [torch.sum(torch.abs(df_train_val.audio_norm[i]))/len(df_train_val.audio_norm[i]) for i in range(len(df_train_val.audio_norm))]\n",
    "\n",
    "print(\"Maximums\")\n",
    "print(\"min:\\t\",min(maxs))\n",
    "print(\"max:\\t\",max(maxs))\n",
    "print(\"mean:\\t\",sum(maxs)/len(maxs))\n",
    "\n",
    "print(\"\\nMinimums\")\n",
    "print(\"min:\\t\",min(mins))\n",
    "print(\"max:\\t\",max(mins))\n",
    "print(\"mean:\\t\",sum(mins)/len(mins))\n",
    "\n",
    "print(\"\\nMeans\")\n",
    "print(\"min:\\t\",min(means))\n",
    "print(\"max:\\t\",max(means))\n",
    "print(\"mean:\\t\",sum(means)/len(means))\n"
   ],
   "outputs": []
  },
  {
   "cell_type": "markdown",
   "id": "03605e0f",
   "metadata": {},
   "source": [
    "## Split data"
   ]
  },
  {
   "cell_type": "code",
   "execution_count": null,
   "id": "b0ec1a82",
   "metadata": {},
   "source": [
    "from sklearn.model_selection import train_test_split\n",
    "\n",
    "df_train, df_val = train_test_split(df_train_val, test_size=0.2, random_state=42, stratify=df_train_val.stratify)\n",
    "df_train = df_train.reset_index(drop=True)\n",
    "df_val = df_val.reset_index(drop=True)"
   ],
   "outputs": []
  },
  {
   "cell_type": "code",
   "execution_count": null,
   "id": "b27072e7",
   "metadata": {},
   "source": [
    "import matplotlib.pyplot as plt\n",
    "\n",
    "plt.title(\"Distribution of data\")\n",
    "plt.hist(df_train.sort_values('stratify').stratify)\n",
    "plt.hist(df_val.sort_values('stratify').stratify)\n",
    "plt.legend((\"Train set\", \"Validation set\"))\n",
    "plt.xlabel(\"Combined labels\")\n",
    "plt.ylabel(\"Number of samples\")"
   ],
   "outputs": []
  },
  {
   "cell_type": "markdown",
   "id": "54d2ec99",
   "metadata": {},
   "source": [
    "## Turn audio into spectrograms"
   ]
  },
  {
   "cell_type": "code",
   "execution_count": null,
   "id": "a7ed1158",
   "metadata": {},
   "source": [
    "display(df_train.head())"
   ],
   "outputs": []
  },
  {
   "cell_type": "code",
   "execution_count": null,
   "id": "b34ade15",
   "metadata": {},
   "source": [
    "import librosa\n",
    "import numpy as np\n",
    "import os\n",
    "\n",
    "if (not os.path.isdir(\"preprocessed\")): os.mkdir(\"preprocessed\")\n",
    "if (not os.path.isdir(\"preprocessed/train\")): os.mkdir(\"preprocessed/train\")\n",
    "if (not os.path.isdir(\"preprocessed/train/specs\")): os.mkdir(\"preprocessed/train/specs\")\n",
    "if (not os.path.isdir(\"preprocessed/val\")): os.mkdir(\"preprocessed/val\")\n",
    "if (not os.path.isdir(\"preprocessed/val/specs\")): os.mkdir(\"preprocessed/val/specs\")\n",
    "\n",
    "labels_csv_out = \"\"\n",
    "\n",
    "for i in range(len(df_train.looped_audio)):\n",
    "    S = librosa.feature.melspectrogram(y=df_train.looped_audio[i].numpy(), sr=16000)\n",
    "    labels_csv_out += \",\".join([f\"{df_train.file_name[i][:-4]}.npy\", str(df_train.accent[i]),\"\\n\"])\n",
    "    np.save(f'preprocessed/train/specs/{df_train.file_name[i][:-4]}.npy', S)\n",
    "\n",
    "with open(\"preprocessed/train/labels.csv\", \"w+\") as f:\n",
    "    f.write(labels_csv_out)\n",
    "\n",
    "labels_csv_out = \"\"\n",
    "\n",
    "for i in range(len(df_val.looped_audio)):\n",
    "    S = librosa.feature.melspectrogram(y=df_val.looped_audio[i].numpy(), sr=16000)\n",
    "    labels_csv_out += \",\".join([f\"{df_val.file_name[i][:-4]}.npy\", str(df_val.accent[i]), \"\\n\"])\n",
    "    np.save(f'preprocessed/val/specs/{df_val.file_name[i][:-4]}.npy', S)\n",
    "\n",
    "\n",
    "with open(\"preprocessed/val/labels.csv\", \"w+\") as f:\n",
    "    f.write(labels_csv_out)"
   ],
   "outputs": []
  },
  {
   "cell_type": "code",
   "execution_count": null,
   "id": "1c41f997",
   "metadata": {},
   "source": [
    "librosa.feature.melspectrogram(y=df_train_val.looped_audio[0].numpy(), sr=16000).shape"
   ],
   "outputs": []
  },
  {
   "cell_type": "code",
   "execution_count": null,
   "id": "02cfba8d",
   "metadata": {},
   "source": [
    "# # Sanity check\n",
    "import matplotlib.pyplot as plt\n",
    "import os\n",
    "S = np.load(f\"preprocessed/train/specs/{os.listdir('preprocessed/train/specs')[1]}\")\n",
    "fig, ax = plt.subplots()\n",
    "S_dB = librosa.power_to_db(S, ref=np.max)\n",
    "img = librosa.display.specshow(S_dB, x_axis='time', y_axis='mel', sr=16000, ax=ax)\n",
    "\n",
    "fig.colorbar(img, ax=ax, format='%+2.0f dB')\n",
    "\n",
    "ax.set(title='Mel-frequency spectrogram')"
   ],
   "outputs": []
  },
  {
   "cell_type": "markdown",
   "id": "13da9c41",
   "metadata": {},
   "source": [
    "## Process test data"
   ]
  },
  {
   "cell_type": "code",
   "execution_count": 1,
   "id": "70bce3dd",
   "metadata": {},
   "source": [
    "# Pre-process test set\n",
    "import convenience\n",
    "import torch\n",
    "df_test, sample_rates = convenience.load_test()\n",
    "display(df_test.head())\n",
    "\n",
    "target_duration = 13\n",
    "sr = 16000\n",
    "\n",
    "df_test, _ = convenience.loop_audio_df(df_test, target_duration=target_duration, sr=sr)\n",
    "display(df_test.head())\n",
    "\n",
    "df_test['audio_norm'] = df_test.looped_audio/[torch.max(torch.abs(df_test.looped_audio[i])) for i in range(len(df_test.looped_audio))]\n",
    "display(df_test.head())\n"
   ],
   "outputs": []
  },
  {
   "cell_type": "code",
   "execution_count": 3,
   "id": "dfffd265",
   "metadata": {},
   "source": [
    "# Export test set\n",
    "import librosa\n",
    "import numpy as np\n",
    "import os\n",
    "\n",
    "if (not os.path.isdir(\"preprocessed\")): os.mkdir(\"preprocessed\")\n",
    "if (not os.path.isdir(\"preprocessed/test\")): os.mkdir(\"preprocessed/test\")\n",
    "if (not os.path.isdir(\"preprocessed/test/specs\")): os.mkdir(\"preprocessed/test/specs\")\n",
    "\n",
    "\n",
    "labels_csv_out = \"Id,label\\n\"\n",
    "\n",
    "for i in range(len(df_test.looped_audio)):\n",
    "    S = librosa.feature.melspectrogram(y=df_test.looped_audio[i].numpy(), sr=16000)\n",
    "    labels_csv_out += \",\".join([f\"{df_test.id[i]}\",\"\\n\"])\n",
    "    np.save(f'preprocessed/test/specs/{df_test.file_name[i][:-4]}.npy', S)\n",
    "\n",
    "with open(\"preprocessed/test/labels.csv\", \"w+\") as f:\n",
    "    f.write(labels_csv_out)"
   ],
   "outputs": []
  }
 ],
 "metadata": {
  "kernelspec": {
   "display_name": "DL_accent",
   "language": "python",
   "name": "python3"
  },
  "language_info": {
   "codemirror_mode": {
    "name": "ipython",
    "version": 3
   },
   "file_extension": ".py",
   "mimetype": "text/x-python",
   "name": "python",
   "nbconvert_exporter": "python",
   "pygments_lexer": "ipython3",
   "version": "3.13.3"
  }
 },
 "nbformat": 4,
 "nbformat_minor": 5
}
