{
 "cells": [
  {
   "cell_type": "markdown",
   "id": "38fb5fd2",
   "metadata": {},
   "source": [
    "### <i>Pre-processing & splitting normal and augmented data</i>"
   ]
  },
  {
   "cell_type": "code",
   "execution_count": 99,
   "id": "a01f2a37",
   "metadata": {},
   "source": [
    "import os\n",
    "import librosa\n",
    "import torchaudio\n",
    "import torch\n",
    "import math\n",
    "import pandas as pd\n",
    "import numpy as np\n",
    "from IPython.display import Audio\n",
    "train_dirs = [f\"../data/Train/{path}\" for path in os.listdir(\"../data/Train\")]\n",
    "train_dirs+= [f\"augmented/{path}\" for path in os.listdir(\"augmented\")]\n",
    "train_dirs.sort()\n",
    "\n",
    "labels_csv_out = \"\"\n",
    "for dir in train_dirs:\n",
    "    audio, sr = torchaudio.load(dir)\n",
    "    file_name = dir.split(\"/\")[-1].replace(\".wav\",\".npy\")\n",
    "    label = file_name[0]\n",
    "    labels_csv_out += \",\".join([file_name,label])+\"\\n\"\n",
    "    length = len(audio[0])/sr\n",
    "    target_length = 13 * sr\n",
    "    audio = (librosa.effects.trim(audio, top_db = 40)[0]/torch.max(torch.abs(audio))).repeat(1,13//math.floor(length)+30)[0][:target_length]\n",
    "    S = librosa.feature.melspectrogram(y=audio.numpy(), sr=sr)\n",
    "    # print(audio.shape, S.shape)\n",
    "    np.save(f'preprocessed/all/specs/{file_name}', S)\n",
    "    # break\n",
    "with open(\"preprocessed/all/labels.csv\", \"w+\") as f:\n",
    "    f.write(labels_csv_out)"
   ],
   "outputs": []
  },
  {
   "cell_type": "code",
   "execution_count": 100,
   "id": "91119d0a",
   "metadata": {},
   "source": [
    "from sklearn.model_selection import train_test_split\n",
    "import shutil\n",
    "\n",
    "# Split data\n",
    "train_files = [dir.replace(\".wav\",\"\") for dir in os.listdir(\"../data/Train\")]\n",
    "train_files.sort()\n",
    "\n",
    "stratify = [name.split(\"_\")[0] for name in train_files]\n",
    "\n",
    "train_ids, val_ids = train_test_split(train_files, test_size=0.2, random_state=42, stratify=stratify)\n",
    "\n",
    "for file_name in os.listdir(\"preprocessed/all/specs\"):\n",
    "    id = file_name[:7]\n",
    "    src = f\"preprocessed/all/specs/{file_name}\"\n",
    "    dst = \"preprocessed/train/specs\" if (id in train_ids) else \"preprocessed/val/specs\"\n",
    "    shutil.copy(src,dst)\n",
    "\n",
    "# Generate labels\n",
    "for set_type in [\"train\",\"val\"]:\n",
    "    labels = \"\"\n",
    "    for file_name in os.listdir(f\"preprocessed/{set_type}/specs\"):\n",
    "        labels+= f\"{file_name},{file_name[0]}\\n\"\n",
    "    with open(f\"preprocessed/{set_type}/labels.csv\", \"w+\") as f:\n",
    "        f.write(labels)"
   ],
   "outputs": []
  },
  {
   "cell_type": "markdown",
   "id": "c67c0ca6",
   "metadata": {},
   "source": [
    "## Load train data"
   ]
  },
  {
   "cell_type": "code",
   "execution_count": 47,
   "id": "3512c7fd",
   "metadata": {},
   "source": [
    "import convenience\n",
    "df_normal_train_val, sample_rates = convenience.load_train()\n",
    "file_names = df_normal_train_val.file_name\n",
    "print(df_normal_train_val.head())\n",
    "file_names.head()"
   ],
   "outputs": []
  },
  {
   "cell_type": "code",
   "execution_count": null,
   "id": "8ae1181e",
   "metadata": {},
   "source": [
    "# df_augment_train_val, sample_rates = convenience.load_train(\"augmented\")\n",
    "# df_augment_train_val.head()\n",
    "df_train_val = df_normal_train_val"
   ],
   "outputs": []
  },
  {
   "cell_type": "markdown",
   "id": "3c2d74b1",
   "metadata": {},
   "source": [
    "### Combine augmented and non-augmented data togehter"
   ]
  },
  {
   "cell_type": "code",
   "execution_count": null,
   "id": "a3e2bcc7",
   "metadata": {},
   "source": [
    "import pandas as pd\n",
    "# df_train_val = pd.concat([df_augment_train_val, df_normal_train_val], axis = 0, ignore_index=True)"
   ],
   "outputs": []
  },
  {
   "cell_type": "code",
   "execution_count": null,
   "id": "a7fe9d55",
   "metadata": {},
   "source": [
    "# for x in range(0,len(df_train_val),1000):\n",
    "#     subset = df_train_val.loc[x:x+999]\n",
    "#     subset.audio = [audio.tolist() for audio in subset.audio.tolist()]\n",
    "#     display(subset)\n",
    "#     subset.to_csv(f\"subsets/subset_{x}:{x+999}.csv\")\n",
    "#     break\n"
   ],
   "outputs": []
  },
  {
   "cell_type": "code",
   "execution_count": null,
   "id": "c1c5bd0a",
   "metadata": {},
   "source": [
    "import ast\n",
    "from IPython.display import Audio\n",
    "my_favourite_df = pd.read_csv(\"subsets/subset_0:999.csv\")\n",
    "Audio(my_favourite_df.audio[0],rate=16000)\n"
   ],
   "outputs": []
  },
  {
   "cell_type": "code",
   "execution_count": null,
   "id": "a4407ebc",
   "metadata": {},
   "source": [
    "import gc\n",
    "gc.collect()"
   ],
   "outputs": []
  },
  {
   "cell_type": "markdown",
   "id": "b590d77a",
   "metadata": {},
   "source": [
    "## Trim silence"
   ]
  },
  {
   "cell_type": "code",
   "execution_count": null,
   "id": "7a3f1ba1",
   "metadata": {},
   "source": [
    "#silence cutting\n",
    "import librosa \n",
    "trimmed_audio = []\n",
    "\n",
    "for file in df_train_val.audio:\n",
    "    trimmed, index = librosa.effects.trim(file, top_db = 40)    \n",
    "    trimmed_audio.append(trimmed)\n",
    "    \n",
    "df_train_val.audio = trimmed_audio\n",
    "#df_train_val[\"trimmed\"] = trimmed_audio"
   ],
   "outputs": []
  },
  {
   "cell_type": "code",
   "execution_count": null,
   "id": "317d490a",
   "metadata": {},
   "source": [],
   "outputs": []
  },
  {
   "cell_type": "code",
   "execution_count": null,
   "id": "bdb6f40e",
   "metadata": {},
   "source": [
    "# df_train_val[\"trimmed\"] = trimmed_audio\n",
    "from IPython.display import Audio\n",
    "Audio(df_train_val.audio[0],rate = 16000)\n",
    "#df_train_val.audio[3164]"
   ],
   "outputs": []
  },
  {
   "cell_type": "code",
   "execution_count": null,
   "id": "ce5eea57",
   "metadata": {},
   "source": [
    "df_train_val[\"length\"] = [len(df_train_val.audio[i])/16000 for i  in range(0, len(df_train_val.audio))]"
   ],
   "outputs": []
  },
  {
   "cell_type": "code",
   "execution_count": null,
   "id": "fc1b5ba6",
   "metadata": {},
   "source": [
    "import IPython.display as ipd\n",
    "display(df_train_val)\n",
    "display(ipd.Audio(df_train_val.audio[0], rate=16000))\n",
    "display(ipd.Audio(trimmed_audio[0], rate=16000))"
   ],
   "outputs": []
  },
  {
   "cell_type": "markdown",
   "id": "c2adaf40",
   "metadata": {},
   "source": [
    "## Loop data"
   ]
  },
  {
   "cell_type": "code",
   "execution_count": null,
   "id": "a1d4b107",
   "metadata": {},
   "source": [
    "import math\n",
    "target_duration = math.ceil(df_train_val.length.max()) # 13s\n",
    "sr = list(sample_rates)[0] # 16kHz\n",
    "for i in range(len(df_train_val.audio)):\n",
    "    df_train_val.audio[i] = convenience.loop_audio(df_train_val.audio[i], df_train_val.length[i], target_duration, sr)\n",
    "\n",
    "df_train_val"
   ],
   "outputs": []
  },
  {
   "cell_type": "code",
   "execution_count": null,
   "id": "2106983e",
   "metadata": {},
   "source": [
    "# import math\n",
    "\n",
    "# target_duration = math.ceil(df_train_val.length.max())\n",
    "# sr = list(sample_rates)[0]\n",
    "\n",
    "# df_train_val, _ = convenience.loop_audio_df(df_train_val, target_duration, sr)\n",
    "# df_train_val.head()"
   ],
   "outputs": []
  },
  {
   "cell_type": "markdown",
   "id": "9a9beda8",
   "metadata": {},
   "source": [
    "## Normalize data"
   ]
  },
  {
   "cell_type": "code",
   "execution_count": null,
   "id": "61c703d1",
   "metadata": {},
   "source": [
    "import torch\n",
    "df_train_val['audio_norm'] = df_train_val.looped_audio/[torch.max(torch.abs(df_train_val.looped_audio[i])) for i in range(len(df_train_val.looped_audio))]\n",
    "df_train_val.head()"
   ],
   "outputs": []
  },
  {
   "cell_type": "code",
   "execution_count": null,
   "id": "a30cf969",
   "metadata": {},
   "source": [
    "maxs = [torch.max(torch.abs(df_train_val.audio_norm[i])) for i in range(len(df_train_val.audio_norm))]\n",
    "mins = [torch.min(torch.abs(df_train_val.audio_norm[i])) for i in range(len(df_train_val.audio_norm))]\n",
    "means = [torch.sum(torch.abs(df_train_val.audio_norm[i]))/len(df_train_val.audio_norm[i]) for i in range(len(df_train_val.audio_norm))]\n",
    "\n",
    "print(\"Maximums\")\n",
    "print(\"min:\\t\",min(maxs))\n",
    "print(\"max:\\t\",max(maxs))\n",
    "print(\"mean:\\t\",sum(maxs)/len(maxs))\n",
    "\n",
    "print(\"\\nMinimums\")\n",
    "print(\"min:\\t\",min(mins))\n",
    "print(\"max:\\t\",max(mins))\n",
    "print(\"mean:\\t\",sum(mins)/len(mins))\n",
    "\n",
    "print(\"\\nMeans\")\n",
    "print(\"min:\\t\",min(means))\n",
    "print(\"max:\\t\",max(means))\n",
    "print(\"mean:\\t\",sum(means)/len(means))\n"
   ],
   "outputs": []
  },
  {
   "cell_type": "markdown",
   "id": "03605e0f",
   "metadata": {},
   "source": [
    "## Split data"
   ]
  },
  {
   "cell_type": "code",
   "execution_count": null,
   "id": "b0ec1a82",
   "metadata": {},
   "source": [
    "from sklearn.model_selection import train_test_split\n",
    "\n",
    "df_train, df_val = train_test_split(df_train_val, test_size=0.2, random_state=42, stratify=df_train_val.stratify)\n",
    "df_train = df_train.reset_index(drop=True)\n",
    "df_val = df_val.reset_index(drop=True)"
   ],
   "outputs": []
  },
  {
   "cell_type": "code",
   "execution_count": null,
   "id": "b27072e7",
   "metadata": {},
   "source": [
    "import matplotlib.pyplot as plt\n",
    "\n",
    "plt.title(\"Distribution of data\")\n",
    "plt.hist(df_train.sort_values('stratify').stratify)\n",
    "plt.hist(df_val.sort_values('stratify').stratify)\n",
    "plt.legend((\"Train set\", \"Validation set\"))\n",
    "plt.xlabel(\"Combined labels\")\n",
    "plt.ylabel(\"Number of samples\")"
   ],
   "outputs": []
  },
  {
   "cell_type": "markdown",
   "id": "54d2ec99",
   "metadata": {},
   "source": [
    "## Turn audio into spectrograms"
   ]
  },
  {
   "cell_type": "code",
   "execution_count": null,
   "id": "a7ed1158",
   "metadata": {},
   "source": [
    "display(df_train.head())"
   ],
   "outputs": []
  },
  {
   "cell_type": "code",
   "execution_count": null,
   "id": "b34ade15",
   "metadata": {},
   "source": [
    "import librosa\n",
    "import numpy as np\n",
    "import os\n",
    "\n",
    "if (not os.path.isdir(\"preprocessed\")): os.mkdir(\"preprocessed\")\n",
    "if (not os.path.isdir(\"preprocessed/train\")): os.mkdir(\"preprocessed/train\")\n",
    "if (not os.path.isdir(\"preprocessed/train/specs\")): os.mkdir(\"preprocessed/train/specs\")\n",
    "if (not os.path.isdir(\"preprocessed/val\")): os.mkdir(\"preprocessed/val\")\n",
    "if (not os.path.isdir(\"preprocessed/val/specs\")): os.mkdir(\"preprocessed/val/specs\")\n",
    "\n",
    "labels_csv_out = \"\"\n",
    "\n",
    "for i in range(len(df_train.looped_audio)):\n",
    "    S = librosa.feature.melspectrogram(y=df_train.looped_audio[i].numpy(), sr=16000)\n",
    "    labels_csv_out += \",\".join([f\"{df_train.file_name[i][:-4]}.npy\", str(df_train.accent[i]),\"\\n\"])\n",
    "    np.save(f'preprocessed/train/specs/{df_train.file_name[i][:-4]}.npy', S)\n",
    "\n",
    "with open(\"preprocessed/train/labels.csv\", \"w+\") as f:\n",
    "    f.write(labels_csv_out)\n",
    "\n",
    "labels_csv_out = \"\"\n",
    "\n",
    "for i in range(len(df_val.looped_audio)):\n",
    "    S = librosa.feature.melspectrogram(y=df_val.looped_audio[i].numpy(), sr=16000)\n",
    "    labels_csv_out += \",\".join([f\"{df_val.file_name[i][:-4]}.npy\", str(df_val.accent[i]), \"\\n\"])\n",
    "    np.save(f'preprocessed/val/specs/{df_val.file_name[i][:-4]}.npy', S)\n",
    "\n",
    "\n",
    "with open(\"preprocessed/val/labels.csv\", \"w+\") as f:\n",
    "    f.write(labels_csv_out)"
   ],
   "outputs": []
  },
  {
   "cell_type": "code",
   "execution_count": null,
   "id": "1c41f997",
   "metadata": {},
   "source": [
    "librosa.feature.melspectrogram(y=df_train_val.looped_audio[0].numpy(), sr=16000).shape"
   ],
   "outputs": []
  },
  {
   "cell_type": "code",
   "execution_count": null,
   "id": "02cfba8d",
   "metadata": {},
   "source": [
    "# # Sanity check\n",
    "import matplotlib.pyplot as plt\n",
    "import os\n",
    "S = np.load(f\"preprocessed/train/specs/{os.listdir('preprocessed/train/specs')[1]}\")\n",
    "fig, ax = plt.subplots()\n",
    "S_dB = librosa.power_to_db(S, ref=np.max)\n",
    "img = librosa.display.specshow(S_dB, x_axis='time', y_axis='mel', sr=16000, ax=ax)\n",
    "\n",
    "fig.colorbar(img, ax=ax, format='%+2.0f dB')\n",
    "\n",
    "ax.set(title='Mel-frequency spectrogram')"
   ],
   "outputs": []
  },
  {
   "cell_type": "markdown",
   "id": "13da9c41",
   "metadata": {},
   "source": [
    "## Process test data"
   ]
  },
  {
   "cell_type": "code",
   "execution_count": null,
   "id": "70bce3dd",
   "metadata": {},
   "source": [
    "# Pre-process test set\n",
    "import convenience\n",
    "import torch\n",
    "df_test, sample_rates = convenience.load_test()\n",
    "display(df_test.head())\n",
    "\n",
    "target_duration = 13\n",
    "sr = 16000\n",
    "\n",
    "df_test, _ = convenience.loop_audio_df(df_test, target_duration=target_duration, sr=sr)\n",
    "display(df_test.head())\n",
    "\n",
    "df_test['audio_norm'] = df_test.looped_audio/[torch.max(torch.abs(df_test.looped_audio[i])) for i in range(len(df_test.looped_audio))]\n",
    "display(df_test.head())\n"
   ],
   "outputs": []
  },
  {
   "cell_type": "code",
   "execution_count": null,
   "id": "dfffd265",
   "metadata": {},
   "source": [
    "# Export test set\n",
    "import librosa\n",
    "import numpy as np\n",
    "import os\n",
    "\n",
    "if (not os.path.isdir(\"preprocessed\")): os.mkdir(\"preprocessed\")\n",
    "if (not os.path.isdir(\"preprocessed/test\")): os.mkdir(\"preprocessed/test\")\n",
    "if (not os.path.isdir(\"preprocessed/test/specs\")): os.mkdir(\"preprocessed/test/specs\")\n",
    "\n",
    "\n",
    "labels_csv_out = \"Id,label\\n\"\n",
    "\n",
    "for i in range(len(df_test.looped_audio)):\n",
    "    S = librosa.feature.melspectrogram(y=df_test.looped_audio[i].numpy(), sr=16000)\n",
    "    labels_csv_out += \",\".join([f\"{df_test.id[i]}\",\"\\n\"])\n",
    "    np.save(f'preprocessed/test/specs/{df_test.file_name[i][:-4]}.npy', S)\n",
    "\n",
    "with open(\"preprocessed/test/labels.csv\", \"w+\") as f:\n",
    "    f.write(labels_csv_out)"
   ],
   "outputs": []
  }
 ],
 "metadata": {
  "kernelspec": {
   "display_name": "DL_accent",
   "language": "python",
   "name": "python3"
  },
  "language_info": {
   "codemirror_mode": {
    "name": "ipython",
    "version": 3
   },
   "file_extension": ".py",
   "mimetype": "text/x-python",
   "name": "python",
   "nbconvert_exporter": "python",
   "pygments_lexer": "ipython3",
   "version": "3.13.3"
  }
 },
 "nbformat": 4,
 "nbformat_minor": 5
}
