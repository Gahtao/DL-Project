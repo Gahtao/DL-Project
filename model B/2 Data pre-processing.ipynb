{
 "cells": [
  {
   "cell_type": "markdown",
   "id": "38fb5fd2",
   "metadata": {},
   "source": [
    "### <i>Pre-processing & splitting normal and/or augmented data</i>"
   ]
  },
  {
   "cell_type": "code",
   "execution_count": null,
   "id": "10dea96c",
   "metadata": {},
   "outputs": [],
   "source": [
    "import os\n",
    "import librosa\n",
    "import torchaudio\n",
    "import torch\n",
    "import math\n",
    "import pandas as pd\n",
    "import numpy as np\n",
    "from IPython.display import Audio"
   ]
  },
  {
   "cell_type": "code",
   "execution_count": null,
   "id": "a01f2a37",
   "metadata": {},
   "outputs": [],
   "source": [
    "#for generating either augmented or non-augmented dataset\n",
    "include_augmented=True\n",
    "\n",
    "\n",
    "train_dirs = [f\"../data/Train/{path}\" for path in os.listdir(\"../data/Train\")]\n",
    "if include_augmented: train_dirs+= [f\"augmented/{path}\" for path in os.listdir(\"augmented\")]\n",
    "train_dirs.sort()\n",
    "\n",
    "\n",
    "labels_csv_out = \"\"\n",
    "for dir in train_dirs:\n",
    "    audio, sr = torchaudio.load(dir)\n",
    "    file_name = dir.split(\"/\")[-1].replace(\".wav\",\".npy\")\n",
    "    label = file_name[0]\n",
    "    labels_csv_out += \",\".join([file_name,label])+\"\\n\"\n",
    "    length = len(audio[0])/sr\n",
    "    target_length = 13 * sr\n",
    "    #cut off silence and normalize\n",
    "    audio = (librosa.effects.trim(audio, top_db = 40)[0]/torch.max(torch.abs(audio))).repeat(1,13//math.floor(length)+30)[0][:target_length]\n",
    "    S = librosa.feature.melspectrogram(y=audio.numpy())\n",
    "    np.save(f'preprocessed/all/specs/{file_name}', S)\n",
    "with open(\"preprocessed/all/labels.csv\", \"w+\") as f:\n",
    "    f.write(labels_csv_out)"
   ]
  },
  {
   "cell_type": "code",
   "execution_count": 2,
   "id": "91119d0a",
   "metadata": {},
   "outputs": [],
   "source": [
    "from sklearn.model_selection import train_test_split\n",
    "import shutil\n",
    "\n",
    "# Split data\n",
    "train_files = [dir.replace(\".wav\",\"\") for dir in os.listdir(\"../data/Train\")]\n",
    "train_files.sort()\n",
    "\n",
    "stratify = [name.split(\"_\")[0] for name in train_files]\n",
    "\n",
    "train_ids, val_ids = train_test_split(train_files, test_size=0.2, random_state=42, stratify=stratify)\n",
    "\n",
    "for file_name in os.listdir(\"preprocessed/all/specs\"):\n",
    "    id = file_name[:7]\n",
    "    src = f\"preprocessed/all/specs/{file_name}\"\n",
    "    dst = \"preprocessed/train/specs\" if (id in train_ids) else \"preprocessed/val/specs\"\n",
    "    shutil.copy(src,dst)\n",
    "\n",
    "# Generate labels\n",
    "for set_type in [\"train\",\"val\"]:\n",
    "    labels = \"\"\n",
    "    for file_name in os.listdir(f\"preprocessed/{set_type}/specs\"):\n",
    "        labels+= f\"{file_name},{file_name[0]}\\n\"\n",
    "    with open(f\"preprocessed/{set_type}/labels.csv\", \"w+\") as f:\n",
    "        f.write(labels)"
   ]
  },
  {
   "cell_type": "markdown",
   "id": "13da9c41",
   "metadata": {},
   "source": [
    "## Process test data"
   ]
  },
  {
   "cell_type": "code",
   "execution_count": null,
   "id": "70bce3dd",
   "metadata": {},
   "outputs": [
    {
     "data": {
      "text/html": [
       "<div>\n",
       "<style scoped>\n",
       "    .dataframe tbody tr th:only-of-type {\n",
       "        vertical-align: middle;\n",
       "    }\n",
       "\n",
       "    .dataframe tbody tr th {\n",
       "        vertical-align: top;\n",
       "    }\n",
       "\n",
       "    .dataframe thead th {\n",
       "        text-align: right;\n",
       "    }\n",
       "</style>\n",
       "<table border=\"1\" class=\"dataframe\">\n",
       "  <thead>\n",
       "    <tr style=\"text-align: right;\">\n",
       "      <th></th>\n",
       "      <th>id</th>\n",
       "      <th>file_name</th>\n",
       "      <th>audio</th>\n",
       "      <th>length</th>\n",
       "    </tr>\n",
       "  </thead>\n",
       "  <tbody>\n",
       "    <tr>\n",
       "      <th>0</th>\n",
       "      <td>5775</td>\n",
       "      <td>5775.wav</td>\n",
       "      <td>[tensor(0.0003), tensor(0.0002), tensor(0.0002...</td>\n",
       "      <td>3.498687</td>\n",
       "    </tr>\n",
       "    <tr>\n",
       "      <th>1</th>\n",
       "      <td>5652</td>\n",
       "      <td>5652.wav</td>\n",
       "      <td>[tensor(-9.1553e-05), tensor(-9.1553e-05), ten...</td>\n",
       "      <td>5.125625</td>\n",
       "    </tr>\n",
       "    <tr>\n",
       "      <th>2</th>\n",
       "      <td>5740</td>\n",
       "      <td>5740.wav</td>\n",
       "      <td>[tensor(0.), tensor(3.0518e-05), tensor(-3.051...</td>\n",
       "      <td>2.637500</td>\n",
       "    </tr>\n",
       "    <tr>\n",
       "      <th>3</th>\n",
       "      <td>6428</td>\n",
       "      <td>6428.wav</td>\n",
       "      <td>[tensor(0.), tensor(6.1035e-05), tensor(0.0002...</td>\n",
       "      <td>7.253312</td>\n",
       "    </tr>\n",
       "    <tr>\n",
       "      <th>4</th>\n",
       "      <td>8021</td>\n",
       "      <td>8021.wav</td>\n",
       "      <td>[tensor(0.0003), tensor(0.0002), tensor(0.0001...</td>\n",
       "      <td>4.010625</td>\n",
       "    </tr>\n",
       "  </tbody>\n",
       "</table>\n",
       "</div>"
      ],
      "text/plain": [
       "     id file_name                                              audio    length\n",
       "0  5775  5775.wav  [tensor(0.0003), tensor(0.0002), tensor(0.0002...  3.498687\n",
       "1  5652  5652.wav  [tensor(-9.1553e-05), tensor(-9.1553e-05), ten...  5.125625\n",
       "2  5740  5740.wav  [tensor(0.), tensor(3.0518e-05), tensor(-3.051...  2.637500\n",
       "3  6428  6428.wav  [tensor(0.), tensor(6.1035e-05), tensor(0.0002...  7.253312\n",
       "4  8021  8021.wav  [tensor(0.0003), tensor(0.0002), tensor(0.0001...  4.010625"
      ]
     },
     "metadata": {},
     "output_type": "display_data"
    }
   ],
   "source": [
    "# Pre-process test set\n",
    "import convenience\n",
    "import torch\n",
    "df_test, sample_rates = convenience.load_test()\n",
    "display(df_test.head())\n",
    "\n",
    "target_duration = 13\n",
    "#sampling rate\n",
    "sr = 16000\n",
    "\n",
    "target_length = target_duration * sr\n",
    "prep_test_audio = [(librosa.effects.trim(audio, top_db = 40)[0]/torch.max(torch.abs(audio))).repeat(1,13//math.floor(length)+30)[0][:target_length] for audio in df_test.audio]\n"
   ]
  },
  {
   "cell_type": "code",
   "execution_count": 4,
   "id": "dfffd265",
   "metadata": {},
   "outputs": [],
   "source": [
    "# Export test set\n",
    "import librosa\n",
    "import numpy as np\n",
    "import os\n",
    "\n",
    "if (not os.path.isdir(\"preprocessed\")): os.mkdir(\"preprocessed\")\n",
    "if (not os.path.isdir(\"preprocessed/test\")): os.mkdir(\"preprocessed/test\")\n",
    "if (not os.path.isdir(\"preprocessed/test/specs\")): os.mkdir(\"preprocessed/test/specs\")\n",
    "\n",
    "\n",
    "labels_csv_out = \"Id,label\\n\"\n",
    "\n",
    "for i in range(len(prep_test_audio)):\n",
    "    audio = prep_test_audio[i]\n",
    "    S = librosa.feature.melspectrogram(y=audio.numpy())\n",
    "    labels_csv_out += \",\".join([f\"{df_test.id[i]}\",\"\\n\"])\n",
    "    np.save(f'preprocessed/test/specs/{df_test.file_name[i][:-4]}.npy', S)\n",
    "\n",
    "with open(\"preprocessed/test/labels.csv\", \"w+\") as f:\n",
    "    f.write(labels_csv_out)"
   ]
  }
 ],
 "metadata": {
  "kernelspec": {
   "display_name": "env-2",
   "language": "python",
   "name": "python3"
  },
  "language_info": {
   "codemirror_mode": {
    "name": "ipython",
    "version": 3
   },
   "file_extension": ".py",
   "mimetype": "text/x-python",
   "name": "python",
   "nbconvert_exporter": "python",
   "pygments_lexer": "ipython3",
   "version": "3.10.13"
  }
 },
 "nbformat": 4,
 "nbformat_minor": 5
}
