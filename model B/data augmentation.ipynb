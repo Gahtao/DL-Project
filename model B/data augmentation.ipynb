{
 "cells": [
  {
   "cell_type": "markdown",
   "id": "74d62dcf",
   "metadata": {},
   "source": [
    "## Data Augmentation"
   ]
  },
  {
   "cell_type": "markdown",
   "id": "2f54dc88",
   "metadata": {},
   "source": [
    "random pitch change and random noise is aplied"
   ]
  },
  {
   "cell_type": "code",
   "execution_count": null,
   "id": "f6b36188",
   "metadata": {},
   "outputs": [],
   "source": [
    "#load data\n",
    "import convenience\n",
    "df_train_val, sample_rates = convenience.load_train()\n",
    "df_train_val['augmented_data'] = df_train_val.audio\n",
    "df_train_val.head()"
   ]
  },
  {
   "cell_type": "code",
   "execution_count": null,
   "id": "61e8db9f",
   "metadata": {},
   "outputs": [],
   "source": [
    "#initialize sr variable (sampling rate) \n",
    "sr = list(sample_rates)[0]\n",
    "sr"
   ]
  },
  {
   "cell_type": "code",
   "execution_count": 3,
   "id": "c1374752",
   "metadata": {},
   "outputs": [],
   "source": [
    "import torch\n",
    "import pandas as pd"
   ]
  },
  {
   "cell_type": "markdown",
   "id": "0752154c",
   "metadata": {},
   "source": [
    "#### Using Librosa for data augmentation"
   ]
  },
  {
   "cell_type": "code",
   "execution_count": null,
   "id": "67fe98db",
   "metadata": {},
   "outputs": [],
   "source": [
    "import numpy as np\n",
    "import librosa \n",
    "\n",
    "import seaborn as sns \n",
    "import tensorflow as tf\n",
    "from IPython.display import Audio"
   ]
  },
  {
   "cell_type": "code",
   "execution_count": null,
   "id": "db3f5bd9",
   "metadata": {},
   "outputs": [],
   "source": [
    "import soundfile\n",
    "all_augmented_audio = []\n",
    "uuid = 0\n",
    "for i in range(2):\n",
    "    for file, file_name in zip(df_train_val['augmented_data'],df_train_val[\"file_name\"]):\n",
    "        file_name = file_name.replace(\".wav\", \"\")\n",
    "        audio = file.numpy() #data has to be a numpy array for Librosa to work\n",
    "        bins_per_octave = 12 \n",
    "        pitch_pm = 2 \n",
    "        pitch_change =  pitch_pm * 2*(np.random.randn())  #every audiofile has a random pitch change (can be tweaked)\n",
    "        #pitch change\n",
    "        audio_pitch_shift = librosa.effects.pitch_shift(audio, sr = 16000, n_steps=pitch_change, bins_per_octave=bins_per_octave)\n",
    "        noise_amp = 0.005*np.random.randn()*np.amax(audio_pitch_shift) #random audio noise, can be changed to any distribution from https://docs.scipy.org/doc/numpy-1.13.0/reference/routines.random.html\n",
    "        #noise change\n",
    "        audio_noise_shift = audio_pitch_shift + noise_amp * np.random.normal(size= audio_pitch_shift.shape[0]) #mathy math for noise\n",
    "        soundfile.write(f\"augmented/{file_name}_{uuid}.wav\", audio_noise_shift, 16000)\n",
    "        uuid += 1\n"
   ]
  }
 ],
 "metadata": {
  "kernelspec": {
   "display_name": "env-2",
   "language": "python",
   "name": "python3"
  },
  "language_info": {
   "codemirror_mode": {
    "name": "ipython",
    "version": 3
   },
   "file_extension": ".py",
   "mimetype": "text/x-python",
   "name": "python",
   "nbconvert_exporter": "python",
   "pygments_lexer": "ipython3",
   "version": "3.10.13"
  }
 },
 "nbformat": 4,
 "nbformat_minor": 5
}
