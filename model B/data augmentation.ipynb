{
 "cells": [
  {
   "cell_type": "markdown",
   "id": "74d62dcf",
   "metadata": {},
   "source": [
    "## Data Augmentation"
   ]
  },
  {
   "cell_type": "markdown",
   "id": "2f54dc88",
   "metadata": {},
   "source": [
    "Bara here\n",
    "- i would like to not change the speed of the audio because the speed at which people talk can change depending on the accent and i don't think we should be chnaging smething that can be a learnable parameter for the NN\n",
    "- for pitch i think that too is a accent dependent parameter. tho idk\n",
    "\n",
    "- i think adding noise is both good and realistic for generalization purposes\n",
    "- i also think we should do the silence deletion\n"
   ]
  },
  {
   "cell_type": "code",
   "execution_count": null,
   "id": "f6b36188",
   "metadata": {},
   "outputs": [
    {
     "data": {
      "text/html": [
       "<div>\n",
       "<style scoped>\n",
       "    .dataframe tbody tr th:only-of-type {\n",
       "        vertical-align: middle;\n",
       "    }\n",
       "\n",
       "    .dataframe tbody tr th {\n",
       "        vertical-align: top;\n",
       "    }\n",
       "\n",
       "    .dataframe thead th {\n",
       "        text-align: right;\n",
       "    }\n",
       "</style>\n",
       "<table border=\"1\" class=\"dataframe\">\n",
       "  <thead>\n",
       "    <tr style=\"text-align: right;\">\n",
       "      <th></th>\n",
       "      <th>file_name</th>\n",
       "      <th>stratify</th>\n",
       "      <th>accent</th>\n",
       "      <th>gender</th>\n",
       "      <th>audio</th>\n",
       "      <th>length</th>\n",
       "      <th>augmented_data</th>\n",
       "    </tr>\n",
       "  </thead>\n",
       "  <tbody>\n",
       "    <tr>\n",
       "      <th>0</th>\n",
       "      <td>1f_1018.wav</td>\n",
       "      <td>1f</td>\n",
       "      <td>1</td>\n",
       "      <td>f</td>\n",
       "      <td>[tensor(-0.0002), tensor(-6.1035e-05), tensor(...</td>\n",
       "      <td>3.413312</td>\n",
       "      <td>[tensor(-0.0002), tensor(-6.1035e-05), tensor(...</td>\n",
       "    </tr>\n",
       "    <tr>\n",
       "      <th>1</th>\n",
       "      <td>1f_1026.wav</td>\n",
       "      <td>1f</td>\n",
       "      <td>1</td>\n",
       "      <td>f</td>\n",
       "      <td>[tensor(-0.0008), tensor(-0.0008), tensor(-0.0...</td>\n",
       "      <td>5.632000</td>\n",
       "      <td>[tensor(-0.0008), tensor(-0.0008), tensor(-0.0...</td>\n",
       "    </tr>\n",
       "    <tr>\n",
       "      <th>2</th>\n",
       "      <td>1f_1031.wav</td>\n",
       "      <td>1f</td>\n",
       "      <td>1</td>\n",
       "      <td>f</td>\n",
       "      <td>[tensor(-0.0002), tensor(-0.0002), tensor(-0.0...</td>\n",
       "      <td>4.693313</td>\n",
       "      <td>[tensor(-0.0002), tensor(-0.0002), tensor(-0.0...</td>\n",
       "    </tr>\n",
       "    <tr>\n",
       "      <th>3</th>\n",
       "      <td>1f_1070.wav</td>\n",
       "      <td>1f</td>\n",
       "      <td>1</td>\n",
       "      <td>f</td>\n",
       "      <td>[tensor(0.0022), tensor(0.0019), tensor(0.0018...</td>\n",
       "      <td>3.925312</td>\n",
       "      <td>[tensor(0.0022), tensor(0.0019), tensor(0.0018...</td>\n",
       "    </tr>\n",
       "    <tr>\n",
       "      <th>4</th>\n",
       "      <td>1f_1075.wav</td>\n",
       "      <td>1f</td>\n",
       "      <td>1</td>\n",
       "      <td>f</td>\n",
       "      <td>[tensor(0.), tensor(3.0518e-05), tensor(0.), t...</td>\n",
       "      <td>2.737500</td>\n",
       "      <td>[tensor(0.), tensor(3.0518e-05), tensor(0.), t...</td>\n",
       "    </tr>\n",
       "  </tbody>\n",
       "</table>\n",
       "</div>"
      ],
      "text/plain": [
       "     file_name stratify accent gender  \\\n",
       "0  1f_1018.wav       1f      1      f   \n",
       "1  1f_1026.wav       1f      1      f   \n",
       "2  1f_1031.wav       1f      1      f   \n",
       "3  1f_1070.wav       1f      1      f   \n",
       "4  1f_1075.wav       1f      1      f   \n",
       "\n",
       "                                               audio    length  \\\n",
       "0  [tensor(-0.0002), tensor(-6.1035e-05), tensor(...  3.413312   \n",
       "1  [tensor(-0.0008), tensor(-0.0008), tensor(-0.0...  5.632000   \n",
       "2  [tensor(-0.0002), tensor(-0.0002), tensor(-0.0...  4.693313   \n",
       "3  [tensor(0.0022), tensor(0.0019), tensor(0.0018...  3.925312   \n",
       "4  [tensor(0.), tensor(3.0518e-05), tensor(0.), t...  2.737500   \n",
       "\n",
       "                                      augmented_data  \n",
       "0  [tensor(-0.0002), tensor(-6.1035e-05), tensor(...  \n",
       "1  [tensor(-0.0008), tensor(-0.0008), tensor(-0.0...  \n",
       "2  [tensor(-0.0002), tensor(-0.0002), tensor(-0.0...  \n",
       "3  [tensor(0.0022), tensor(0.0019), tensor(0.0018...  \n",
       "4  [tensor(0.), tensor(3.0518e-05), tensor(0.), t...  "
      ]
     },
     "execution_count": 1,
     "metadata": {},
     "output_type": "execute_result"
    }
   ],
   "source": [
    "#load data\n",
    "import convenience\n",
    "df_train_val, sample_rates = convenience.load_train()\n",
    "df_train_val['augmented_data'] = df_train_val.audio\n",
    "df_train_val.head()"
   ]
  },
  {
   "cell_type": "code",
   "execution_count": 2,
   "id": "61e8db9f",
   "metadata": {},
   "outputs": [
    {
     "data": {
      "text/plain": [
       "16000"
      ]
     },
     "execution_count": 2,
     "metadata": {},
     "output_type": "execute_result"
    }
   ],
   "source": [
    "sr = list(sample_rates)[0]\n",
    "sr\n",
    "\n",
    "#initialize sr variable (sampling rate) "
   ]
  },
  {
   "cell_type": "code",
   "execution_count": 3,
   "id": "c1374752",
   "metadata": {},
   "outputs": [],
   "source": [
    "import torch\n",
    "import pandas as pd"
   ]
  },
  {
   "cell_type": "code",
   "execution_count": 4,
   "id": "071f07b9",
   "metadata": {},
   "outputs": [
    {
     "name": "stdout",
     "output_type": "stream",
     "text": [
      "tensor([-2.1362e-04, -6.1035e-05, -3.0518e-05,  ...,  6.4087e-04,\n",
      "         7.3242e-04,  5.7983e-04])\n"
     ]
    },
    {
     "data": {
      "text/plain": [
       "torch.Size([54613])"
      ]
     },
     "execution_count": 4,
     "metadata": {},
     "output_type": "execute_result"
    }
   ],
   "source": [
    "waveform = df_train_val.audio[0]\n",
    "print(waveform)\n",
    "waveform.shape"
   ]
  },
  {
   "cell_type": "markdown",
   "id": "0752154c",
   "metadata": {},
   "source": [
    "#### Librosa"
   ]
  },
  {
   "cell_type": "markdown",
   "id": "12c3057c",
   "metadata": {},
   "source": [
    "In this part I apply different types of augmentation techniques. They're programmed in a pipeline, where the output of the previous is the input to the next one. \n",
    "If you want to apply the augmentation technique to a 'clean slate', apply it to df_train_val['augmented'].\n",
    "\n",
    "Code is adapted from: https://www.kaggle.com/code/huseinzol05/sound-augmentation-librosa#apply-hpss \n",
    "\n",
    "(Please note it would be a good idea to see for which augmentations the model has the best performance, yet also a good generalizability!)"
   ]
  },
  {
   "cell_type": "code",
   "execution_count": 5,
   "id": "67fe98db",
   "metadata": {},
   "outputs": [],
   "source": [
    "import numpy as np\n",
    "import librosa \n",
    "\n",
    "import seaborn as sns \n",
    "sns.set() #iirc mostly for visuals \n",
    "import tensorflow as tf\n",
    "from IPython.display import Audio"
   ]
  },
  {
   "cell_type": "code",
   "execution_count": 72,
   "id": "db3f5bd9",
   "metadata": {},
   "outputs": [],
   "source": [
    "#pitch shifted audio\n",
    "#This is the begining of the pipeline, so df_train_val is used. \n",
    "# pitch_shift_audio = [] #I always create a seperate list to avoid overwriting the original variable\n",
    "import soundfile\n",
    "all_augmented_audio = []\n",
    "uuid = 0\n",
    "for i in range(2):\n",
    "    for file, file_name in zip(df_train_val['augmented_data'],df_train_val[\"file_name\"]):\n",
    "        file_name = file_name.replace(\".wav\", \"\")\n",
    "        audio = file.numpy() #data has to be a numpy array for Librosa to work\n",
    "        bins_per_octave = 12 \n",
    "        pitch_pm = 2 \n",
    "        pitch_change =  pitch_pm * 2*(np.random.randn())  #every audiofile has a random pitch change (can be tweaked)\n",
    "        audio_pitch_shift = librosa.effects.pitch_shift(audio, sr = 16000, n_steps=pitch_change, bins_per_octave=bins_per_octave)\n",
    "        noise_amp = 0.005*np.random.randn()*np.amax(audio_pitch_shift) #random audio noise, can be changed to any distribution from https://docs.scipy.org/doc/numpy-1.13.0/reference/routines.random.html\n",
    "        audio_noise_shift = audio_pitch_shift + noise_amp * np.random.normal(size= audio_pitch_shift.shape[0]) #mathy math for noise\n",
    "        # all_augmented_audio.append(audio_noise_shift)\n",
    "        soundfile.write(f\"augmented/{file_name}_{uuid}.wav\", audio_noise_shift, 16000)\n",
    "        uuid += 1\n",
    "        # display(Audio(audio_noise_shift, rate=16000))\n",
    "        # pd.Series(audio_noise_shift).plot()\n",
    "        # break\n",
    "        # pitch_shift_audio.append() \n",
    "\n",
    "# print(pitch_shift_audio)"
   ]
  },
  {
   "cell_type": "code",
   "execution_count": null,
   "id": "9a0d4fce",
   "metadata": {},
   "outputs": [],
   "source": []
  },
  {
   "cell_type": "code",
   "execution_count": null,
   "id": "464779a7",
   "metadata": {},
   "outputs": [],
   "source": [
    "#distribution noise\n",
    "# noise_dist_audio = []\n",
    "\n",
    "# for file in pitch_shift_audio:\n",
    "#     audio_noise = file\n",
    "#     noise_amp = 0.005*np.random.randn()*np.amax(audio_noise) #random audio noise, can be changed to any distribution from https://docs.scipy.org/doc/numpy-1.13.0/reference/routines.random.html\n",
    "#     audio_noise = audio_noise + noise_amp * np.random.normal(size= audio_noise.shape[0]) #mathy math for noise\n",
    "    \n",
    "#     noise_dist_audio.append(audio_noise) \n",
    "#     all_augmented_audio.append(audio_noise)"
   ]
  },
  {
   "cell_type": "code",
   "execution_count": null,
   "id": "3e826313",
   "metadata": {},
   "outputs": [
    {
     "name": "stdout",
     "output_type": "stream",
     "text": [
      "Axes(0.125,0.11;0.775x0.77)\n"
     ]
    },
    {
     "data": {
      "image/png": "[encoded data removed]",
      "text/plain": [
       "<Figure size 640x480 with 1 Axes>"
      ]
     },
     "metadata": {},
     "output_type": "display_data"
    }
   ],
   "source": [
    "#seeing how the audio looks like\n",
    "#sanity check to see if the trimming works\n",
    "# print(pd.Series(noise_dist_audio[100]).plot())"
   ]
  },
  {
   "cell_type": "code",
   "execution_count": 35,
   "id": "7c9d2373",
   "metadata": {},
   "outputs": [],
   "source": [
    "#supposed to convert the augmented data back into the df, in tensor form, but I was unable to make it work, kept giving dimension errors\n",
    "#there could be a hidden issue in the functions used where it changes the dimensions, I suspect speed or stretch \n",
    "#I would try to run all parts of the pipeline seperately and see from where the issue arrises \n",
    "\n",
    "##Bara here! I think the issue is because you're converting a list on np arrays, which i dont think the .tensor hnows how to handle?\n",
    "\n",
    "#augmented_data = torch.tensor(trimmed_audio)\n",
    "\n",
    "#df_train_val['augmented_data'] = augmented_data\n",
    "#df_train_val.head()"
   ]
  }
 ],
 "metadata": {
  "kernelspec": {
   "display_name": "env-2",
   "language": "python",
   "name": "python3"
  },
  "language_info": {
   "codemirror_mode": {
    "name": "ipython",
    "version": 3
   },
   "file_extension": ".py",
   "mimetype": "text/x-python",
   "name": "python",
   "nbconvert_exporter": "python",
   "pygments_lexer": "ipython3",
   "version": "3.10.13"
  }
 },
 "nbformat": 4,
 "nbformat_minor": 5
}
