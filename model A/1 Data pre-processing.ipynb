{
 "cells": [
  {
   "cell_type": "code",
   "id": "initial_id",
   "metadata": {
    "collapsed": true,
    "ExecuteTime": {
     "end_time": "2025-05-07T11:03:40.256411Z",
     "start_time": "2025-05-07T11:01:46.156770Z"
    }
   },
   "source": [
    "import convenience as c\n",
    "\n",
    "df_train, sample_rates = c.load_train()\n",
    "df_train.head()"
   ],
   "outputs": [
    {
     "data": {
      "text/plain": [
       "     file_name accent gender  \\\n",
       "0  1f_1018.wav      1      f   \n",
       "1  1f_1026.wav      1      f   \n",
       "2  1f_1031.wav      1      f   \n",
       "3  1f_1070.wav      1      f   \n",
       "4  1f_1075.wav      1      f   \n",
       "\n",
       "                                               audio    length  \n",
       "0  [tensor(-0.0002), tensor(-6.1035e-05), tensor(...  3.413312  \n",
       "1  [tensor(-0.0008), tensor(-0.0008), tensor(-0.0...  5.632000  \n",
       "2  [tensor(-0.0002), tensor(-0.0002), tensor(-0.0...  4.693313  \n",
       "3  [tensor(0.0022), tensor(0.0019), tensor(0.0018...  3.925312  \n",
       "4  [tensor(0.), tensor(3.0518e-05), tensor(0.), t...  2.737500  "
      ],
      "text/html": [
       "<div>\n",
       "<style scoped>\n",
       "    .dataframe tbody tr th:only-of-type {\n",
       "        vertical-align: middle;\n",
       "    }\n",
       "\n",
       "    .dataframe tbody tr th {\n",
       "        vertical-align: top;\n",
       "    }\n",
       "\n",
       "    .dataframe thead th {\n",
       "        text-align: right;\n",
       "    }\n",
       "</style>\n",
       "<table border=\"1\" class=\"dataframe\">\n",
       "  <thead>\n",
       "    <tr style=\"text-align: right;\">\n",
       "      <th></th>\n",
       "      <th>file_name</th>\n",
       "      <th>accent</th>\n",
       "      <th>gender</th>\n",
       "      <th>audio</th>\n",
       "      <th>length</th>\n",
       "    </tr>\n",
       "  </thead>\n",
       "  <tbody>\n",
       "    <tr>\n",
       "      <th>0</th>\n",
       "      <td>1f_1018.wav</td>\n",
       "      <td>1</td>\n",
       "      <td>f</td>\n",
       "      <td>[tensor(-0.0002), tensor(-6.1035e-05), tensor(...</td>\n",
       "      <td>3.413312</td>\n",
       "    </tr>\n",
       "    <tr>\n",
       "      <th>1</th>\n",
       "      <td>1f_1026.wav</td>\n",
       "      <td>1</td>\n",
       "      <td>f</td>\n",
       "      <td>[tensor(-0.0008), tensor(-0.0008), tensor(-0.0...</td>\n",
       "      <td>5.632000</td>\n",
       "    </tr>\n",
       "    <tr>\n",
       "      <th>2</th>\n",
       "      <td>1f_1031.wav</td>\n",
       "      <td>1</td>\n",
       "      <td>f</td>\n",
       "      <td>[tensor(-0.0002), tensor(-0.0002), tensor(-0.0...</td>\n",
       "      <td>4.693313</td>\n",
       "    </tr>\n",
       "    <tr>\n",
       "      <th>3</th>\n",
       "      <td>1f_1070.wav</td>\n",
       "      <td>1</td>\n",
       "      <td>f</td>\n",
       "      <td>[tensor(0.0022), tensor(0.0019), tensor(0.0018...</td>\n",
       "      <td>3.925312</td>\n",
       "    </tr>\n",
       "    <tr>\n",
       "      <th>4</th>\n",
       "      <td>1f_1075.wav</td>\n",
       "      <td>1</td>\n",
       "      <td>f</td>\n",
       "      <td>[tensor(0.), tensor(3.0518e-05), tensor(0.), t...</td>\n",
       "      <td>2.737500</td>\n",
       "    </tr>\n",
       "  </tbody>\n",
       "</table>\n",
       "</div>"
      ]
     },
     "execution_count": 1,
     "metadata": {},
     "output_type": "execute_result"
    }
   ],
   "execution_count": 1
  }
 ],
 "metadata": {
  "kernelspec": {
   "display_name": "Python 3",
   "language": "python",
   "name": "python3"
  },
  "language_info": {
   "codemirror_mode": {
    "name": "ipython",
    "version": 2
   },
   "file_extension": ".py",
   "mimetype": "text/x-python",
   "name": "python",
   "nbconvert_exporter": "python",
   "pygments_lexer": "ipython2",
   "version": "2.7.6"
  }
 },
 "nbformat": 4,
 "nbformat_minor": 5
}
