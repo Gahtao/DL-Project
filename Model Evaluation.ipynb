{
 "cells": [
  {
   "cell_type": "code",
   "execution_count": null,
   "id": "a14021b0",
   "metadata": {},
   "source": [
    "# Define a simple CNN model\n",
    "class SimpleCNN(nn.Module):\n",
    "    def __init__(self,dropout_prob=0.5):\n",
    "        super(SimpleCNN, self).__init__()\n",
    "        self.dropout_prob = dropout_prob\n",
    "        \n",
    "        # First Convolutional Layer\n",
    "        self.conv1 = nn.Conv2d(in_channels=1, out_channels=16, kernel_size=5, padding=2)\n",
    "        self.bn1 = nn.BatchNorm2d(num_features=16)\n",
    "        self.relu = nn.ReLU()\n",
    "        self.pool = nn.MaxPool2d(kernel_size=2, stride=2)\n",
    "        \n",
    "        # Second Convolutional Layer\n",
    "        self.conv2 = nn.Conv2d(in_channels=16, out_channels=32, kernel_size=3, padding=1)\n",
    "        \n",
    "        # Third Convolutional Layer\n",
    "        self.conv3 = nn.Conv2d(in_channels=32, out_channels=64, kernel_size=3, padding=1)\n",
    "        self.convRes1 = nn.Conv2d(in_channels=16, out_channels = 64, kernel_size=1)\n",
    "\n",
    "        # Fourth Convolutional Layer\n",
    "        self.conv4 = nn.Conv2d(in_channels=64, out_channels=128, kernel_size=3, padding=1)\n",
    "\n",
    "        # Fifth Convolutional Layer\n",
    "        self.conv5 = nn.Conv2d(in_channels=128, out_channels=256, kernel_size=3, padding=1)\n",
    "\n",
    "        # Dropout Layers\n",
    "        self.dropout1 = nn.Dropout(self.dropout_prob)\n",
    "        self.dropout2 = nn.Dropout(self.dropout_prob)\n",
    "        self.dropout3 = nn.Dropout(self.dropout_prob)\n",
    "        self.dropout4 = nn.Dropout(self.dropout_prob)\n",
    "        # self.dropout5 = nn.Dropout(self.dropout_prob)\n",
    "\n",
    "        # Fully Connected Layers\n",
    "        \n",
    "        fc1_in_features = 25600 # 51200\n",
    "        self.fc1 = nn.Linear(in_features=fc1_in_features, out_features=256)\n",
    "        self.bn2 = nn.BatchNorm1d(num_features=256)\n",
    "        self.fc2 = nn.Linear(in_features=256, out_features=128)\n",
    "        self.bn3 = nn.BatchNorm1d(num_features=128)\n",
    "        self.fc3 = nn.Linear(in_features=128, out_features=64)\n",
    "        self.bn4 = nn.BatchNorm1d(num_features=64)\n",
    "        # self.fc4 = nn.Linear(in_features=64, out_features=32)\n",
    "        # self.fc5 = nn.Linear(in_features=32, out_features=5)\n",
    "        self.fc6 = nn.Linear(in_features=64, out_features=5)\n",
    "\n",
    "        # Output activitation function\n",
    "        self.softmax = nn.Softmax(dim=1)\n",
    "\n",
    "    def forward(self, x):\n",
    "        # First Convolutional Block\n",
    "        # print(x.shape)\n",
    "        x = self.conv1(x)\n",
    "        x = self.bn1(x)\n",
    "        x = self.relu(x)\n",
    "        x = self.pool(x)\n",
    "        \n",
    "        # Second Convolutional Block\n",
    "        # res = x\n",
    "        # x = self.dropout1(x)\n",
    "        x = self.conv2(x)\n",
    "        x = self.relu(x)\n",
    "        x = self.pool(x)\n",
    "        \n",
    "        # Third Convolutional Block\n",
    "        # x = self.dropout1(x)\n",
    "        x = self.conv3(x)\n",
    "        # print(x.shape)\n",
    "        # print(res.shape)\n",
    "        # res = self.convRes1(res)\n",
    "        # print(res.shape)\n",
    "        # x += res\n",
    "        x = self.relu(x)\n",
    "        x = self.pool(x)\n",
    "\n",
    "        # Fourth Convolutional Block\n",
    "        # x = self.dropout1(x)\n",
    "        x = self.conv4(x)\n",
    "        x = self.relu(x)\n",
    "        x = self.pool(x)\n",
    "\n",
    "        # Fifth Convolutional Block\n",
    "        # x = self.dropout1(x)\n",
    "        x = self.conv5(x)\n",
    "        x = self.relu(x)\n",
    "        \n",
    "        # Flatten for Fully Connected Layers\n",
    "        x = x.view(x.size(0), -1)\n",
    "        \n",
    "        # Fully Connected Layers\n",
    "        x = self.fc1(x)\n",
    "        x = self.bn2(x)\n",
    "        x = self.relu(x)\n",
    "        x = self.dropout1(x)\n",
    "\n",
    "        x = self.fc2(x)\n",
    "        x = self.bn3(x)\n",
    "        x = self.relu(x)\n",
    "        x = self.dropout1(x)\n",
    "\n",
    "        x = self.fc3(x)\n",
    "        x = self.bn4(x)\n",
    "        x = self.relu(x)\n",
    "        x = self.dropout1(x)\n",
    "        # x = self.fc4(x)\n",
    "        # x = self.relu(x)\n",
    "        # x = self.dropout4(x)\n",
    "\n",
    "        x = self.fc6(x)\n",
    "\n",
    "        # x = self.fc5(x)but also, there's\n",
    "        # x = self.softmax(x)\n",
    "        \n",
    "        return x"
   ],
   "outputs": []
  },
  {
   "cell_type": "markdown",
   "id": "79f8614b",
   "metadata": {},
   "source": [
    "## Load Model"
   ]
  },
  {
   "cell_type": "code",
   "execution_count": 3,
   "id": "23e0e760",
   "metadata": {},
   "source": [
    "import torch\n",
    "model_dir = \"model B/my_test_model\"\n",
    "model = torch.load(model_dir, weights_only=False)"
   ],
   "outputs": []
  },
  {
   "cell_type": "markdown",
   "id": "6b820a01",
   "metadata": {},
   "source": [
    "## Basic Evaluation\n",
    "Accuracy, F1, AUC"
   ]
  },
  {
   "cell_type": "code",
   "execution_count": null,
   "id": "70e60611",
   "metadata": {},
   "source": [],
   "outputs": []
  },
  {
   "cell_type": "markdown",
   "id": "f8fedfad",
   "metadata": {},
   "source": [
    "## Evaluate per class"
   ]
  },
  {
   "cell_type": "code",
   "execution_count": null,
   "id": "60d5a21d",
   "metadata": {},
   "source": [],
   "outputs": []
  },
  {
   "cell_type": "markdown",
   "id": "19ccf744",
   "metadata": {},
   "source": [
    "## Evaluate per gender"
   ]
  },
  {
   "cell_type": "code",
   "execution_count": null,
   "id": "51643f63",
   "metadata": {},
   "source": [],
   "outputs": []
  }
 ],
 "metadata": {
  "kernelspec": {
   "display_name": "DL_accent",
   "language": "python",
   "name": "python3"
  },
  "language_info": {
   "codemirror_mode": {
    "name": "ipython",
    "version": 3
   },
   "file_extension": ".py",
   "mimetype": "text/x-python",
   "name": "python",
   "nbconvert_exporter": "python",
   "pygments_lexer": "ipython3",
   "version": "3.13.3"
  }
 },
 "nbformat": 4,
 "nbformat_minor": 5
}
